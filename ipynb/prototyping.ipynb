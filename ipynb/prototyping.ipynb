{
 "cells": [
  {
   "cell_type": "code",
   "execution_count": 5,
   "metadata": {
    "collapsed": false
   },
   "outputs": [],
   "source": [
    "import sys\n",
    "import datetime as dt\n",
    "\n",
    "import pandas as pd\n",
    "import numpy as np\n",
    "from IPython.display import display, HTML\n",
    "\n",
    "sys.path.append('../invoicing')\n",
    "from main import *\n",
    "\n",
    "%load_ext autoreload\n",
    "%autoreload 2\n",
    "\n",
    "data_dir = '../tests/data/'\n",
    "\n"
   ]
  },
  {
   "cell_type": "code",
   "execution_count": 6,
   "metadata": {
    "collapsed": false
   },
   "outputs": [
    {
     "data": {
      "text/html": [
       "<div>\n",
       "<table border=\"1\" class=\"dataframe\">\n",
       "  <thead>\n",
       "    <tr style=\"text-align: right;\">\n",
       "      <th></th>\n",
       "      <th>date</th>\n",
       "      <th>project</th>\n",
       "      <th>time_spent</th>\n",
       "      <th>comment</th>\n",
       "    </tr>\n",
       "  </thead>\n",
       "  <tbody>\n",
       "    <tr>\n",
       "      <th>1</th>\n",
       "      <td>2015-03-26</td>\n",
       "      <td>B</td>\n",
       "      <td>125</td>\n",
       "      <td>yeah</td>\n",
       "    </tr>\n",
       "    <tr>\n",
       "      <th>0</th>\n",
       "      <td>2016-04-01</td>\n",
       "      <td>A</td>\n",
       "      <td>240</td>\n",
       "      <td>NaN</td>\n",
       "    </tr>\n",
       "    <tr>\n",
       "      <th>2</th>\n",
       "      <td>2016-04-02</td>\n",
       "      <td>B</td>\n",
       "      <td>120</td>\n",
       "      <td>NaN</td>\n",
       "    </tr>\n",
       "    <tr>\n",
       "      <th>3</th>\n",
       "      <td>2016-04-02</td>\n",
       "      <td>C</td>\n",
       "      <td>65</td>\n",
       "      <td>NaN</td>\n",
       "    </tr>\n",
       "    <tr>\n",
       "      <th>5</th>\n",
       "      <td>2016-04-02</td>\n",
       "      <td>D</td>\n",
       "      <td>234</td>\n",
       "      <td>doh</td>\n",
       "    </tr>\n",
       "    <tr>\n",
       "      <th>4</th>\n",
       "      <td>2016-04-13</td>\n",
       "      <td>A</td>\n",
       "      <td>320</td>\n",
       "      <td>booyah</td>\n",
       "    </tr>\n",
       "  </tbody>\n",
       "</table>\n",
       "</div>"
      ],
      "text/plain": [
       "        date project  time_spent comment\n",
       "1 2015-03-26       B         125    yeah\n",
       "0 2016-04-01       A         240     NaN\n",
       "2 2016-04-02       B         120     NaN\n",
       "3 2016-04-02       C          65     NaN\n",
       "5 2016-04-02       D         234     doh\n",
       "4 2016-04-13       A         320  booyah"
      ]
     },
     "execution_count": 6,
     "metadata": {},
     "output_type": "execute_result"
    }
   ],
   "source": [
    "path = data_dir + 'timesheet.csv'\n",
    "timesheet = read_timesheet(path)\n",
    "timesheet"
   ]
  },
  {
   "cell_type": "code",
   "execution_count": 7,
   "metadata": {
    "collapsed": false
   },
   "outputs": [
    {
     "data": {
      "text/html": [
       "<div>\n",
       "<table border=\"1\" class=\"dataframe\">\n",
       "  <thead>\n",
       "    <tr style=\"text-align: right;\">\n",
       "      <th></th>\n",
       "      <th>date</th>\n",
       "      <th>project</th>\n",
       "      <th>time_spent</th>\n",
       "      <th>comment</th>\n",
       "      <th>hourly_rate</th>\n",
       "      <th>cost</th>\n",
       "    </tr>\n",
       "  </thead>\n",
       "  <tbody>\n",
       "    <tr>\n",
       "      <th>0</th>\n",
       "      <td>2015-03-26</td>\n",
       "      <td>B</td>\n",
       "      <td>125</td>\n",
       "      <td>yeah</td>\n",
       "      <td>100</td>\n",
       "      <td>208.333333</td>\n",
       "    </tr>\n",
       "    <tr>\n",
       "      <th>1</th>\n",
       "      <td>2016-04-02</td>\n",
       "      <td>B</td>\n",
       "      <td>120</td>\n",
       "      <td>NaN</td>\n",
       "      <td>100</td>\n",
       "      <td>200.000000</td>\n",
       "    </tr>\n",
       "    <tr>\n",
       "      <th>2</th>\n",
       "      <td>2016-04-01</td>\n",
       "      <td>A</td>\n",
       "      <td>240</td>\n",
       "      <td>NaN</td>\n",
       "      <td>80</td>\n",
       "      <td>320.000000</td>\n",
       "    </tr>\n",
       "    <tr>\n",
       "      <th>3</th>\n",
       "      <td>2016-04-13</td>\n",
       "      <td>A</td>\n",
       "      <td>320</td>\n",
       "      <td>booyah</td>\n",
       "      <td>80</td>\n",
       "      <td>426.666667</td>\n",
       "    </tr>\n",
       "    <tr>\n",
       "      <th>4</th>\n",
       "      <td>2016-04-02</td>\n",
       "      <td>C</td>\n",
       "      <td>65</td>\n",
       "      <td>NaN</td>\n",
       "      <td>160</td>\n",
       "      <td>173.333333</td>\n",
       "    </tr>\n",
       "    <tr>\n",
       "      <th>5</th>\n",
       "      <td>2016-04-02</td>\n",
       "      <td>D</td>\n",
       "      <td>234</td>\n",
       "      <td>doh</td>\n",
       "      <td>100</td>\n",
       "      <td>390.000000</td>\n",
       "    </tr>\n",
       "  </tbody>\n",
       "</table>\n",
       "</div>"
      ],
      "text/plain": [
       "        date project  time_spent comment  hourly_rate        cost\n",
       "0 2015-03-26       B         125    yeah          100  208.333333\n",
       "1 2016-04-02       B         120     NaN          100  200.000000\n",
       "2 2016-04-01       A         240     NaN           80  320.000000\n",
       "3 2016-04-13       A         320  booyah           80  426.666667\n",
       "4 2016-04-02       C          65     NaN          160  173.333333\n",
       "5 2016-04-02       D         234     doh          100  390.000000"
      ]
     },
     "execution_count": 7,
     "metadata": {},
     "output_type": "execute_result"
    }
   ],
   "source": [
    "prdf = pd.DataFrame([\n",
    "  ['A', 80],\n",
    "  ['B', 100],\n",
    "  ['C', 160],\n",
    "  ['D', 100],\n",
    "  ], columns=['project', 'hourly_rate'])\n",
    "\n",
    "f = bill_at_constant_rate(timesheet, prdf)\n",
    "f"
   ]
  },
  {
   "cell_type": "code",
   "execution_count": 8,
   "metadata": {
    "collapsed": false
   },
   "outputs": [
    {
     "data": {
      "text/html": [
       "<div>\n",
       "<table border=\"1\" class=\"dataframe\">\n",
       "  <thead>\n",
       "    <tr style=\"text-align: right;\">\n",
       "      <th></th>\n",
       "      <th>time_spent</th>\n",
       "      <th>cost</th>\n",
       "    </tr>\n",
       "    <tr>\n",
       "      <th>project</th>\n",
       "      <th></th>\n",
       "      <th></th>\n",
       "    </tr>\n",
       "  </thead>\n",
       "  <tbody>\n",
       "    <tr>\n",
       "      <th>A</th>\n",
       "      <td>560</td>\n",
       "      <td>746.666667</td>\n",
       "    </tr>\n",
       "    <tr>\n",
       "      <th>B</th>\n",
       "      <td>245</td>\n",
       "      <td>408.333333</td>\n",
       "    </tr>\n",
       "    <tr>\n",
       "      <th>C</th>\n",
       "      <td>65</td>\n",
       "      <td>173.333333</td>\n",
       "    </tr>\n",
       "    <tr>\n",
       "      <th>D</th>\n",
       "      <td>234</td>\n",
       "      <td>390.000000</td>\n",
       "    </tr>\n",
       "  </tbody>\n",
       "</table>\n",
       "</div>"
      ],
      "text/plain": [
       "         time_spent        cost\n",
       "project                        \n",
       "A               560  746.666667\n",
       "B               245  408.333333\n",
       "C                65  173.333333\n",
       "D               234  390.000000"
      ]
     },
     "execution_count": 8,
     "metadata": {},
     "output_type": "execute_result"
    }
   ],
   "source": [
    "agg_by_project(f)"
   ]
  },
  {
   "cell_type": "code",
   "execution_count": 9,
   "metadata": {
    "collapsed": false
   },
   "outputs": [],
   "source": [
    "html = make_invoice(timesheet)\n"
   ]
  },
  {
   "cell_type": "code",
   "execution_count": 10,
   "metadata": {
    "collapsed": false
   },
   "outputs": [
    {
     "data": {
      "text/html": [
       "<?xml version=\"1.0\" encoding=\"utf-8\" ?>\n",
       "<!DOCTYPE html PUBLIC \"-//W3C//DTD XHTML 1.0 Transitional//EN\" \"http://www.w3.org/TR/xhtml1/DTD/xhtml1-transitional.dtd\">\n",
       "<html xmlns=\"http://www.w3.org/1999/xhtml\" xml:lang=\"en\" lang=\"en\">\n",
       "<head>\n",
       "  <title></title>\n",
       "  <link rel=\"stylesheet\" href=\"lib/bootstrap-3.3.6/css/bootstrap.min.css\" type=\"text/css\" />\n",
       "  <link rel=\"stylesheet\" href=\"style_alex.css\" type=\"text/css\" />\n",
       "</head>\n",
       "<body>\n",
       "  <div class=\"header\">\n",
       "    <h1>INVOICE</h1>\n",
       "    <img alt=\"Frucht graph\" src=\"images/frucht_graph.png\" />\n",
       "\n",
       "    <p class=\"codes\">\n",
       "      <em>Code</em>: bingo / \n",
       "      <em>Issued</em>: 2016-04-16 / \n",
       "      <em>Due</em>: 2016-04-17\n",
       "    </p>\n",
       "  </div>\n",
       "\n",
       "  <h2>Parties</h2>\n",
       "  <table class=\"table table-condensed\">\n",
       "  <tr>\n",
       "    <td>From:</td>\n",
       "    <td>Alex </td>\n",
       "    <td>To:</td>\n",
       "    <td> </td>\n",
       "  </tr>\n",
       "  </table>\n",
       "\n",
       "  <h2>Service</h2>\n",
       "  <table class=\"table table-condensed\">\n",
       "    <tr>\n",
       "      <th>Project</th>\n",
       "      <th>Time (h)</th>\n",
       "      <th>Rate (NZD/h)</th>\n",
       "      <th>Total (NZD)</th>\n",
       "    </tr>\n",
       "    <tr>\n",
       "      <td>Bingo</td>\n",
       "      <td>2</td>\n",
       "      <td>150</td>\n",
       "      <td>300</td>\n",
       "    </tr>\n",
       "  </table>\n",
       "\n",
       "  <h2>Payment</h2>\n",
       "  <p>Please direct deposit the total into my bank account below by the due date above.\n",
       "  Overdue balances will be charged an additional 1% per day.</p>\n",
       "    Alex, \n",
       "    , \n",
       "    , \n",
       "    reference bingo\n",
       "\n",
       "  <h2>Thank You!</h2>\n",
       "  <p>If you have any questions, feel free to email me at <a class=\"reference external\" href=\"mailto:\"></a>.</p>\n",
       "\n",
       "</body>"
      ],
      "text/plain": [
       "<IPython.core.display.HTML object>"
      ]
     },
     "metadata": {},
     "output_type": "display_data"
    }
   ],
   "source": [
    "display(HTML(html))"
   ]
  },
  {
   "cell_type": "code",
   "execution_count": null,
   "metadata": {
    "collapsed": true
   },
   "outputs": [],
   "source": []
  }
 ],
 "metadata": {
  "kernelspec": {
   "display_name": "Python 3",
   "language": "python",
   "name": "python3"
  },
  "language_info": {
   "codemirror_mode": {
    "name": "ipython",
    "version": 3
   },
   "file_extension": ".py",
   "mimetype": "text/x-python",
   "name": "python",
   "nbconvert_exporter": "python",
   "pygments_lexer": "ipython3",
   "version": "3.5.1"
  }
 },
 "nbformat": 4,
 "nbformat_minor": 0
}
