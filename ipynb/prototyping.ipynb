{
 "cells": [
  {
   "cell_type": "code",
   "execution_count": 1,
   "metadata": {
    "collapsed": false
   },
   "outputs": [],
   "source": [
    "import sys\n",
    "import datetime as dt\n",
    "\n",
    "import pandas as pd\n",
    "import numpy as np\n",
    "from IPython.display import display, HTML\n",
    "\n",
    "sys.path.append('../invoicing')\n",
    "from main import *\n",
    "\n",
    "%load_ext autoreload\n",
    "%autoreload 2\n",
    "\n",
    "data_dir = '../tests/data/'\n",
    "\n"
   ]
  },
  {
   "cell_type": "code",
   "execution_count": 2,
   "metadata": {
    "collapsed": false
   },
   "outputs": [
    {
     "data": {
      "text/html": [
       "<div>\n",
       "<table border=\"1\" class=\"dataframe\">\n",
       "  <thead>\n",
       "    <tr style=\"text-align: right;\">\n",
       "      <th></th>\n",
       "      <th>date</th>\n",
       "      <th>project</th>\n",
       "      <th>time_spent</th>\n",
       "      <th>comment</th>\n",
       "    </tr>\n",
       "  </thead>\n",
       "  <tbody>\n",
       "    <tr>\n",
       "      <th>0</th>\n",
       "      <td>2016-04-01</td>\n",
       "      <td>A</td>\n",
       "      <td>4.000000</td>\n",
       "      <td>NaN</td>\n",
       "    </tr>\n",
       "    <tr>\n",
       "      <th>1</th>\n",
       "      <td>2016-04-04</td>\n",
       "      <td>B</td>\n",
       "      <td>2.000000</td>\n",
       "      <td>NaN</td>\n",
       "    </tr>\n",
       "    <tr>\n",
       "      <th>2</th>\n",
       "      <td>2016-04-04</td>\n",
       "      <td>C</td>\n",
       "      <td>1.083333</td>\n",
       "      <td>NaN</td>\n",
       "    </tr>\n",
       "    <tr>\n",
       "      <th>3</th>\n",
       "      <td>2016-04-06</td>\n",
       "      <td>A</td>\n",
       "      <td>10.000000</td>\n",
       "      <td>NaN</td>\n",
       "    </tr>\n",
       "    <tr>\n",
       "      <th>4</th>\n",
       "      <td>2016-04-13</td>\n",
       "      <td>A</td>\n",
       "      <td>5.333333</td>\n",
       "      <td>booyah</td>\n",
       "    </tr>\n",
       "    <tr>\n",
       "      <th>5</th>\n",
       "      <td>2016-04-14</td>\n",
       "      <td>D</td>\n",
       "      <td>12.233333</td>\n",
       "      <td>doh</td>\n",
       "    </tr>\n",
       "    <tr>\n",
       "      <th>6</th>\n",
       "      <td>2016-04-15</td>\n",
       "      <td>A</td>\n",
       "      <td>8.350000</td>\n",
       "      <td>NaN</td>\n",
       "    </tr>\n",
       "  </tbody>\n",
       "</table>\n",
       "</div>"
      ],
      "text/plain": [
       "        date project  time_spent comment\n",
       "0 2016-04-01       A    4.000000     NaN\n",
       "1 2016-04-04       B    2.000000     NaN\n",
       "2 2016-04-04       C    1.083333     NaN\n",
       "3 2016-04-06       A   10.000000     NaN\n",
       "4 2016-04-13       A    5.333333  booyah\n",
       "5 2016-04-14       D   12.233333     doh\n",
       "6 2016-04-15       A    8.350000     NaN"
      ]
     },
     "execution_count": 2,
     "metadata": {},
     "output_type": "execute_result"
    }
   ],
   "source": [
    "path = data_dir + 'timesheet.csv'\n",
    "timesheet = read_timesheet(path, time_units='min')\n",
    "timesheet"
   ]
  },
  {
   "cell_type": "code",
   "execution_count": 8,
   "metadata": {
    "collapsed": false
   },
   "outputs": [
    {
     "data": {
      "text/plain": [
       "[10, 15, 2]"
      ]
     },
     "execution_count": 8,
     "metadata": {},
     "output_type": "execute_result"
    }
   ],
   "source": [
    "cuts = [10, 15, np.inf]\n",
    "partition(27, cuts)"
   ]
  },
  {
   "cell_type": "code",
   "execution_count": 4,
   "metadata": {
    "collapsed": false
   },
   "outputs": [
    {
     "data": {
      "text/plain": [
       "661"
      ]
     },
     "execution_count": 4,
     "metadata": {},
     "output_type": "execute_result"
    }
   ],
   "source": [
    "\n",
    "base_fee = 1\n",
    "cuts = [10, 10, 10, np.inf]\n",
    "rates = [30, 60, 90, 180]\n",
    "my_biller = build_piecewise_linear_biller(base_fee, cuts, rates)\n",
    "\n",
    "my_biller(16)"
   ]
  },
  {
   "cell_type": "code",
   "execution_count": 5,
   "metadata": {
    "collapsed": false
   },
   "outputs": [
    {
     "data": {
      "text/html": [
       "<div>\n",
       "<table border=\"1\" class=\"dataframe\">\n",
       "  <thead>\n",
       "    <tr style=\"text-align: right;\">\n",
       "      <th></th>\n",
       "      <th>period_end</th>\n",
       "      <th>time_spent</th>\n",
       "      <th>rate</th>\n",
       "      <th>cost</th>\n",
       "    </tr>\n",
       "  </thead>\n",
       "  <tbody>\n",
       "    <tr>\n",
       "      <th>0</th>\n",
       "      <td>2016-04-03</td>\n",
       "      <td>4.000000</td>\n",
       "      <td>30.25</td>\n",
       "      <td>121.0</td>\n",
       "    </tr>\n",
       "    <tr>\n",
       "      <th>1</th>\n",
       "      <td>2016-04-03</td>\n",
       "      <td>0.000000</td>\n",
       "      <td>NaN</td>\n",
       "      <td>0.0</td>\n",
       "    </tr>\n",
       "    <tr>\n",
       "      <th>2</th>\n",
       "      <td>2016-04-03</td>\n",
       "      <td>0.000000</td>\n",
       "      <td>NaN</td>\n",
       "      <td>0.0</td>\n",
       "    </tr>\n",
       "    <tr>\n",
       "      <th>3</th>\n",
       "      <td>2016-04-03</td>\n",
       "      <td>0.000000</td>\n",
       "      <td>NaN</td>\n",
       "      <td>0.0</td>\n",
       "    </tr>\n",
       "    <tr>\n",
       "      <th>4</th>\n",
       "      <td>2016-04-10</td>\n",
       "      <td>10.000000</td>\n",
       "      <td>30.10</td>\n",
       "      <td>301.0</td>\n",
       "    </tr>\n",
       "    <tr>\n",
       "      <th>5</th>\n",
       "      <td>2016-04-10</td>\n",
       "      <td>3.083333</td>\n",
       "      <td>60.00</td>\n",
       "      <td>185.0</td>\n",
       "    </tr>\n",
       "    <tr>\n",
       "      <th>6</th>\n",
       "      <td>2016-04-10</td>\n",
       "      <td>0.000000</td>\n",
       "      <td>NaN</td>\n",
       "      <td>0.0</td>\n",
       "    </tr>\n",
       "    <tr>\n",
       "      <th>7</th>\n",
       "      <td>2016-04-10</td>\n",
       "      <td>0.000000</td>\n",
       "      <td>NaN</td>\n",
       "      <td>0.0</td>\n",
       "    </tr>\n",
       "    <tr>\n",
       "      <th>8</th>\n",
       "      <td>2016-04-17</td>\n",
       "      <td>10.000000</td>\n",
       "      <td>30.10</td>\n",
       "      <td>301.0</td>\n",
       "    </tr>\n",
       "    <tr>\n",
       "      <th>9</th>\n",
       "      <td>2016-04-17</td>\n",
       "      <td>10.000000</td>\n",
       "      <td>60.00</td>\n",
       "      <td>600.0</td>\n",
       "    </tr>\n",
       "    <tr>\n",
       "      <th>10</th>\n",
       "      <td>2016-04-17</td>\n",
       "      <td>5.916667</td>\n",
       "      <td>90.00</td>\n",
       "      <td>532.5</td>\n",
       "    </tr>\n",
       "    <tr>\n",
       "      <th>11</th>\n",
       "      <td>2016-04-17</td>\n",
       "      <td>0.000000</td>\n",
       "      <td>NaN</td>\n",
       "      <td>0.0</td>\n",
       "    </tr>\n",
       "  </tbody>\n",
       "</table>\n",
       "</div>"
      ],
      "text/plain": [
       "   period_end  time_spent   rate   cost\n",
       "0  2016-04-03    4.000000  30.25  121.0\n",
       "1  2016-04-03    0.000000    NaN    0.0\n",
       "2  2016-04-03    0.000000    NaN    0.0\n",
       "3  2016-04-03    0.000000    NaN    0.0\n",
       "4  2016-04-10   10.000000  30.10  301.0\n",
       "5  2016-04-10    3.083333  60.00  185.0\n",
       "6  2016-04-10    0.000000    NaN    0.0\n",
       "7  2016-04-10    0.000000    NaN    0.0\n",
       "8  2016-04-17   10.000000  30.10  301.0\n",
       "9  2016-04-17   10.000000  60.00  600.0\n",
       "10 2016-04-17    5.916667  90.00  532.5\n",
       "11 2016-04-17    0.000000    NaN    0.0"
      ]
     },
     "execution_count": 5,
     "metadata": {},
     "output_type": "execute_result"
    }
   ],
   "source": [
    "bill(timesheet, my_biller, cuts=cuts, groupby_project=False)"
   ]
  },
  {
   "cell_type": "code",
   "execution_count": 26,
   "metadata": {
    "collapsed": false
   },
   "outputs": [
    {
     "data": {
      "text/html": [
       "<?xml version=\"1.0\" encoding=\"utf-8\" ?>\n",
       "<!DOCTYPE html PUBLIC \"-//W3C//DTD XHTML 1.0 Transitional//EN\" \"http://www.w3.org/TR/xhtml1/DTD/xhtml1-transitional.dtd\">\n",
       "<html xmlns=\"http://www.w3.org/1999/xhtml\" xml:lang=\"en\" lang=\"en\">\n",
       "<head>\n",
       "  <title></title>\n",
       "  <link rel=\"stylesheet\" href=\"lib/bootstrap-3.3.6/css/bootstrap.min.css\" type=\"text/css\" />\n",
       "  <link rel=\"stylesheet\" href=\"style_alex.css\" type=\"text/css\" />\n",
       "</head>\n",
       "<body>\n",
       "  <div class=\"header\">\n",
       "    <h1>INVOICE</h1>\n",
       "\n",
       "    <p class=\"codes\">\n",
       "      <em>Code</em>: bingo / \n",
       "      <em>Issued</em>: 2016-04-16 / \n",
       "      <em>Due</em>: 2016-04-17\n",
       "    </p>\n",
       "  </div>\n",
       "\n",
       "  <h2>Parties</h2>\n",
       "  <table class=\"table table-condensed\">\n",
       "  <tr>\n",
       "    <td>From:</td>\n",
       "    <td>Alex <br/>1 Queen St, Auckland 1001</td>\n",
       "    <td>To:</td>\n",
       "    <td>Wingnut <br/> 2 Victoria St, Auckland 1001</td>\n",
       "  </tr>\n",
       "  </table>\n",
       "\n",
       "  <h2>Service</h2>\n",
       "  <table class=\"table table-condensed\">\n",
       "    <tr>\n",
       "      <th>Project</th>\n",
       "      <th>Time (h)</th>\n",
       "      <th>Rate (NZD/h)</th>\n",
       "      <th>Total (NZD)</th>\n",
       "    </tr>\n",
       "    <tr>\n",
       "      <td>Bingo</td>\n",
       "      <td>2</td>\n",
       "      <td>150</td>\n",
       "      <td>300</td>\n",
       "    </tr>\n",
       "  </table>\n",
       "\n",
       "  <h2>Payment</h2>\n",
       "  <p>Please direct deposit the total into my bank account below by the due date above.\n",
       "  Overdue balances will be charged an additional 1% per day.</p>\n",
       "    Alex, \n",
       "    , \n",
       "    , \n",
       "    reference bingo\n",
       "\n",
       "  <h2>Thank You!</h2>\n",
       "  <p>If you have any questions, feel free to email me at <a class=\"reference external\" href=\"mailto:a@b.com\">a@b.com</a>.</p>\n",
       "\n",
       "</body>"
      ],
      "text/plain": [
       "<IPython.core.display.HTML object>"
      ]
     },
     "metadata": {},
     "output_type": "display_data"
    }
   ],
   "source": [
    "html = make_invoice(timesheet)\n",
    "display(HTML(html))"
   ]
  },
  {
   "cell_type": "code",
   "execution_count": null,
   "metadata": {
    "collapsed": true
   },
   "outputs": [],
   "source": []
  }
 ],
 "metadata": {
  "kernelspec": {
   "display_name": "Python 3",
   "language": "python",
   "name": "python3"
  },
  "language_info": {
   "codemirror_mode": {
    "name": "ipython",
    "version": 3
   },
   "file_extension": ".py",
   "mimetype": "text/x-python",
   "name": "python",
   "nbconvert_exporter": "python",
   "pygments_lexer": "ipython3",
   "version": "3.5.1"
  }
 },
 "nbformat": 4,
 "nbformat_minor": 0
}
