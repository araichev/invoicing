{
 "cells": [
  {
   "cell_type": "code",
   "execution_count": 13,
   "metadata": {
    "collapsed": false
   },
   "outputs": [
    {
     "name": "stdout",
     "output_type": "stream",
     "text": [
      "The autoreload extension is already loaded. To reload it, use:\n",
      "  %reload_ext autoreload\n"
     ]
    }
   ],
   "source": [
    "import sys\n",
    "import datetime as dt\n",
    "\n",
    "import pandas as pd\n",
    "import numpy as np\n",
    "from IPython.display import display, HTML\n",
    "\n",
    "sys.path.append('../invoicing')\n",
    "from main import *\n",
    "\n",
    "%load_ext autoreload\n",
    "%autoreload 2\n",
    "\n",
    "data_dir = '../tests/data/'\n",
    "\n"
   ]
  },
  {
   "cell_type": "code",
   "execution_count": 40,
   "metadata": {
    "collapsed": false
   },
   "outputs": [
    {
     "data": {
      "text/html": [
       "<div>\n",
       "<table border=\"1\" class=\"dataframe\">\n",
       "  <thead>\n",
       "    <tr style=\"text-align: right;\">\n",
       "      <th></th>\n",
       "      <th>date</th>\n",
       "      <th>project</th>\n",
       "      <th>time_spent</th>\n",
       "      <th>comment</th>\n",
       "    </tr>\n",
       "  </thead>\n",
       "  <tbody>\n",
       "    <tr>\n",
       "      <th>1</th>\n",
       "      <td>2016-02-26</td>\n",
       "      <td>B</td>\n",
       "      <td>2.083333</td>\n",
       "      <td>yeah</td>\n",
       "    </tr>\n",
       "    <tr>\n",
       "      <th>0</th>\n",
       "      <td>2016-04-01</td>\n",
       "      <td>A</td>\n",
       "      <td>4.000000</td>\n",
       "      <td>NaN</td>\n",
       "    </tr>\n",
       "    <tr>\n",
       "      <th>2</th>\n",
       "      <td>2016-04-02</td>\n",
       "      <td>B</td>\n",
       "      <td>2.000000</td>\n",
       "      <td>NaN</td>\n",
       "    </tr>\n",
       "    <tr>\n",
       "      <th>3</th>\n",
       "      <td>2016-04-02</td>\n",
       "      <td>C</td>\n",
       "      <td>1.083333</td>\n",
       "      <td>NaN</td>\n",
       "    </tr>\n",
       "    <tr>\n",
       "      <th>5</th>\n",
       "      <td>2016-04-02</td>\n",
       "      <td>D</td>\n",
       "      <td>3.900000</td>\n",
       "      <td>doh</td>\n",
       "    </tr>\n",
       "    <tr>\n",
       "      <th>4</th>\n",
       "      <td>2016-04-13</td>\n",
       "      <td>A</td>\n",
       "      <td>5.333333</td>\n",
       "      <td>booyah</td>\n",
       "    </tr>\n",
       "  </tbody>\n",
       "</table>\n",
       "</div>"
      ],
      "text/plain": [
       "        date project  time_spent comment\n",
       "1 2016-02-26       B    2.083333    yeah\n",
       "0 2016-04-01       A    4.000000     NaN\n",
       "2 2016-04-02       B    2.000000     NaN\n",
       "3 2016-04-02       C    1.083333     NaN\n",
       "5 2016-04-02       D    3.900000     doh\n",
       "4 2016-04-13       A    5.333333  booyah"
      ]
     },
     "execution_count": 40,
     "metadata": {},
     "output_type": "execute_result"
    }
   ],
   "source": [
    "path = data_dir + 'timesheet.csv'\n",
    "timesheet = read_timesheet(path)\n",
    "timesheet"
   ]
  },
  {
   "cell_type": "code",
   "execution_count": 36,
   "metadata": {
    "collapsed": false
   },
   "outputs": [
    {
     "data": {
      "text/html": [
       "<div>\n",
       "<table border=\"1\" class=\"dataframe\">\n",
       "  <thead>\n",
       "    <tr style=\"text-align: right;\">\n",
       "      <th></th>\n",
       "      <th>date</th>\n",
       "      <th>project</th>\n",
       "      <th>time_spent</th>\n",
       "      <th>comment</th>\n",
       "    </tr>\n",
       "  </thead>\n",
       "  <tbody>\n",
       "    <tr>\n",
       "      <th>0</th>\n",
       "      <td>2016-04-01</td>\n",
       "      <td>A</td>\n",
       "      <td>4.000000</td>\n",
       "      <td>NaN</td>\n",
       "    </tr>\n",
       "    <tr>\n",
       "      <th>1</th>\n",
       "      <td>2016-04-02</td>\n",
       "      <td>B</td>\n",
       "      <td>2.000000</td>\n",
       "      <td>NaN</td>\n",
       "    </tr>\n",
       "    <tr>\n",
       "      <th>2</th>\n",
       "      <td>2016-04-02</td>\n",
       "      <td>C</td>\n",
       "      <td>1.083333</td>\n",
       "      <td>NaN</td>\n",
       "    </tr>\n",
       "    <tr>\n",
       "      <th>3</th>\n",
       "      <td>2016-04-02</td>\n",
       "      <td>D</td>\n",
       "      <td>3.900000</td>\n",
       "      <td>doh</td>\n",
       "    </tr>\n",
       "  </tbody>\n",
       "</table>\n",
       "</div>"
      ],
      "text/plain": [
       "        date project  time_spent comment\n",
       "0 2016-04-01       A    4.000000     NaN\n",
       "1 2016-04-02       B    2.000000     NaN\n",
       "2 2016-04-02       C    1.083333     NaN\n",
       "3 2016-04-02       D    3.900000     doh"
      ]
     },
     "execution_count": 36,
     "metadata": {},
     "output_type": "execute_result"
    }
   ],
   "source": [
    "f = slice_to_dates(timesheet, '20160401', '20160402')\n",
    "f"
   ]
  },
  {
   "cell_type": "code",
   "execution_count": 37,
   "metadata": {
    "collapsed": false
   },
   "outputs": [
    {
     "data": {
      "text/html": [
       "<div>\n",
       "<table border=\"1\" class=\"dataframe\">\n",
       "  <thead>\n",
       "    <tr style=\"text-align: right;\">\n",
       "      <th></th>\n",
       "      <th>project</th>\n",
       "      <th>time_spent</th>\n",
       "      <th>rate</th>\n",
       "      <th>cost</th>\n",
       "    </tr>\n",
       "  </thead>\n",
       "  <tbody>\n",
       "    <tr>\n",
       "      <th>0</th>\n",
       "      <td>A</td>\n",
       "      <td>9.333333</td>\n",
       "      <td>80</td>\n",
       "      <td>746.666667</td>\n",
       "    </tr>\n",
       "    <tr>\n",
       "      <th>1</th>\n",
       "      <td>B</td>\n",
       "      <td>2.000000</td>\n",
       "      <td>100</td>\n",
       "      <td>200.000000</td>\n",
       "    </tr>\n",
       "    <tr>\n",
       "      <th>2</th>\n",
       "      <td>C</td>\n",
       "      <td>1.083333</td>\n",
       "      <td>160</td>\n",
       "      <td>173.333333</td>\n",
       "    </tr>\n",
       "    <tr>\n",
       "      <th>3</th>\n",
       "      <td>D</td>\n",
       "      <td>3.900000</td>\n",
       "      <td>100</td>\n",
       "      <td>390.000000</td>\n",
       "    </tr>\n",
       "  </tbody>\n",
       "</table>\n",
       "</div>"
      ],
      "text/plain": [
       "  project  time_spent  rate        cost\n",
       "0       A    9.333333    80  746.666667\n",
       "1       B    2.000000   100  200.000000\n",
       "2       C    1.083333   160  173.333333\n",
       "3       D    3.900000   100  390.000000"
      ]
     },
     "execution_count": 37,
     "metadata": {},
     "output_type": "execute_result"
    }
   ],
   "source": [
    "pr_df = pd.DataFrame([\n",
    "  ['A', 80],\n",
    "  ['B', 100],\n",
    "  ['C', 160],\n",
    "  ['D', 100],\n",
    "  ], columns=['project', 'rate'])\n",
    "\n",
    "f = bill_at_constant_rate(timesheet, pr_df, '20160401', '21040402')\n",
    "f"
   ]
  },
  {
   "cell_type": "code",
   "execution_count": 41,
   "metadata": {
    "collapsed": false
   },
   "outputs": [
    {
     "data": {
      "text/html": [
       "<div>\n",
       "<table border=\"1\" class=\"dataframe\">\n",
       "  <thead>\n",
       "    <tr style=\"text-align: right;\">\n",
       "      <th></th>\n",
       "      <th></th>\n",
       "      <th>time_spent</th>\n",
       "    </tr>\n",
       "    <tr>\n",
       "      <th>project</th>\n",
       "      <th>date</th>\n",
       "      <th></th>\n",
       "    </tr>\n",
       "  </thead>\n",
       "  <tbody>\n",
       "    <tr>\n",
       "      <th rowspan=\"3\" valign=\"top\">A</th>\n",
       "      <th>2016-04-03</th>\n",
       "      <td>4.000000</td>\n",
       "    </tr>\n",
       "    <tr>\n",
       "      <th>2016-04-10</th>\n",
       "      <td>NaN</td>\n",
       "    </tr>\n",
       "    <tr>\n",
       "      <th>2016-04-17</th>\n",
       "      <td>5.333333</td>\n",
       "    </tr>\n",
       "    <tr>\n",
       "      <th rowspan=\"6\" valign=\"top\">B</th>\n",
       "      <th>2016-02-28</th>\n",
       "      <td>2.083333</td>\n",
       "    </tr>\n",
       "    <tr>\n",
       "      <th>2016-03-06</th>\n",
       "      <td>NaN</td>\n",
       "    </tr>\n",
       "    <tr>\n",
       "      <th>2016-03-13</th>\n",
       "      <td>NaN</td>\n",
       "    </tr>\n",
       "    <tr>\n",
       "      <th>2016-03-20</th>\n",
       "      <td>NaN</td>\n",
       "    </tr>\n",
       "    <tr>\n",
       "      <th>2016-03-27</th>\n",
       "      <td>NaN</td>\n",
       "    </tr>\n",
       "    <tr>\n",
       "      <th>2016-04-03</th>\n",
       "      <td>2.000000</td>\n",
       "    </tr>\n",
       "    <tr>\n",
       "      <th>C</th>\n",
       "      <th>2016-04-03</th>\n",
       "      <td>1.083333</td>\n",
       "    </tr>\n",
       "    <tr>\n",
       "      <th>D</th>\n",
       "      <th>2016-04-03</th>\n",
       "      <td>3.900000</td>\n",
       "    </tr>\n",
       "  </tbody>\n",
       "</table>\n",
       "</div>"
      ],
      "text/plain": [
       "                    time_spent\n",
       "project date                  \n",
       "A       2016-04-03    4.000000\n",
       "        2016-04-10         NaN\n",
       "        2016-04-17    5.333333\n",
       "B       2016-02-28    2.083333\n",
       "        2016-03-06         NaN\n",
       "        2016-03-13         NaN\n",
       "        2016-03-20         NaN\n",
       "        2016-03-27         NaN\n",
       "        2016-04-03    2.000000\n",
       "C       2016-04-03    1.083333\n",
       "D       2016-04-03    3.900000"
      ]
     },
     "execution_count": 41,
     "metadata": {},
     "output_type": "execute_result"
    }
   ],
   "source": [
    "f = timesheet.groupby('project').apply(\n",
    "  lambda g: g.set_index('date')[['time_spent']].resample('W').sum())\n",
    "f"
   ]
  },
  {
   "cell_type": "code",
   "execution_count": null,
   "metadata": {
    "collapsed": true
   },
   "outputs": [],
   "source": [
    "tr_df = pd.DataFrame([\n",
    "  ['W', 0, 0, 150],\n",
    "  ['W'],\n",
    "  ['W'],\n",
    "  ['W'],\n",
    "  [],        \n",
    "  ], columns=['freq', 'time_cutoff', 'tier', 'rate'])"
   ]
  },
  {
   "cell_type": "code",
   "execution_count": 9,
   "metadata": {
    "collapsed": false
   },
   "outputs": [],
   "source": [
    "html = make_invoice(timesheet)\n"
   ]
  },
  {
   "cell_type": "code",
   "execution_count": 11,
   "metadata": {
    "collapsed": false
   },
   "outputs": [
    {
     "data": {
      "text/html": [
       "<?xml version=\"1.0\" encoding=\"utf-8\" ?>\n",
       "<!DOCTYPE html PUBLIC \"-//W3C//DTD XHTML 1.0 Transitional//EN\" \"http://www.w3.org/TR/xhtml1/DTD/xhtml1-transitional.dtd\">\n",
       "<html xmlns=\"http://www.w3.org/1999/xhtml\" xml:lang=\"en\" lang=\"en\">\n",
       "<head>\n",
       "  <title></title>\n",
       "  <link rel=\"stylesheet\" href=\"lib/bootstrap-3.3.6/css/bootstrap.min.css\" type=\"text/css\" />\n",
       "  <link rel=\"stylesheet\" href=\"style_alex.css\" type=\"text/css\" />\n",
       "</head>\n",
       "<body>\n",
       "  <div class=\"header\">\n",
       "    <h1>INVOICE</h1>\n",
       "    <img alt=\"Frucht graph\" src=\"images/frucht_graph.png\" />\n",
       "\n",
       "    <p class=\"codes\">\n",
       "      <em>Code</em>: bingo / \n",
       "      <em>Issued</em>: 2016-04-16 / \n",
       "      <em>Due</em>: 2016-04-17\n",
       "    </p>\n",
       "  </div>\n",
       "\n",
       "  <h2>Parties</h2>\n",
       "  <table class=\"table table-condensed\">\n",
       "  <tr>\n",
       "    <td>From:</td>\n",
       "    <td>Alex </td>\n",
       "    <td>To:</td>\n",
       "    <td> </td>\n",
       "  </tr>\n",
       "  </table>\n",
       "\n",
       "  <h2>Service</h2>\n",
       "  <table class=\"table table-condensed\">\n",
       "    <tr>\n",
       "      <th>Project</th>\n",
       "      <th>Time (h)</th>\n",
       "      <th>Rate (NZD/h)</th>\n",
       "      <th>Total (NZD)</th>\n",
       "    </tr>\n",
       "    <tr>\n",
       "      <td>Bingo</td>\n",
       "      <td>2</td>\n",
       "      <td>150</td>\n",
       "      <td>300</td>\n",
       "    </tr>\n",
       "  </table>\n",
       "\n",
       "  <h2>Payment</h2>\n",
       "  <p>Please direct deposit the total into my bank account below by the due date above.\n",
       "  Overdue balances will be charged an additional 1% per day.</p>\n",
       "    Alex, \n",
       "    , \n",
       "    , \n",
       "    reference bingo\n",
       "\n",
       "  <h2>Thank You!</h2>\n",
       "  <p>If you have any questions, feel free to email me at <a class=\"reference external\" href=\"mailto:\"></a>.</p>\n",
       "\n",
       "</body>"
      ],
      "text/plain": [
       "<IPython.core.display.HTML object>"
      ]
     },
     "metadata": {},
     "output_type": "display_data"
    }
   ],
   "source": [
    "display(HTML(html))"
   ]
  },
  {
   "cell_type": "code",
   "execution_count": null,
   "metadata": {
    "collapsed": true
   },
   "outputs": [],
   "source": []
  }
 ],
 "metadata": {
  "kernelspec": {
   "display_name": "Python 3",
   "language": "python",
   "name": "python3"
  },
  "language_info": {
   "codemirror_mode": {
    "name": "ipython",
    "version": 3
   },
   "file_extension": ".py",
   "mimetype": "text/x-python",
   "name": "python",
   "nbconvert_exporter": "python",
   "pygments_lexer": "ipython3",
   "version": "3.5.1"
  }
 },
 "nbformat": 4,
 "nbformat_minor": 0
}
