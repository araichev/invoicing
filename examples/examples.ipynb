{
 "cells": [
  {
   "cell_type": "code",
   "execution_count": 3,
   "metadata": {
    "collapsed": false
   },
   "outputs": [
    {
     "name": "stdout",
     "output_type": "stream",
     "text": [
      "The autoreload extension is already loaded. To reload it, use:\n",
      "  %reload_ext autoreload\n"
     ]
    }
   ],
   "source": [
    "import sys\n",
    "import datetime as dt\n",
    "from pathlib import Path\n",
    "\n",
    "import pandas as pd\n",
    "import numpy as np\n",
    "\n",
    "sys.path.append('../invoicing')\n",
    "from main import *\n",
    "\n",
    "%load_ext autoreload\n",
    "%autoreload 2\n"
   ]
  },
  {
   "cell_type": "code",
   "execution_count": 5,
   "metadata": {
    "collapsed": false
   },
   "outputs": [
    {
     "data": {
      "text/html": [
       "<div>\n",
       "<table border=\"1\" class=\"dataframe\">\n",
       "  <thead>\n",
       "    <tr style=\"text-align: right;\">\n",
       "      <th></th>\n",
       "      <th>date</th>\n",
       "      <th>project</th>\n",
       "      <th>duration</th>\n",
       "      <th>comment</th>\n",
       "    </tr>\n",
       "  </thead>\n",
       "  <tbody>\n",
       "    <tr>\n",
       "      <th>0</th>\n",
       "      <td>2016-04-01</td>\n",
       "      <td>A</td>\n",
       "      <td>4.000000</td>\n",
       "      <td>yeah nah</td>\n",
       "    </tr>\n",
       "    <tr>\n",
       "      <th>1</th>\n",
       "      <td>2016-04-04</td>\n",
       "      <td>B</td>\n",
       "      <td>2.000000</td>\n",
       "      <td>NaN</td>\n",
       "    </tr>\n",
       "    <tr>\n",
       "      <th>2</th>\n",
       "      <td>2016-04-04</td>\n",
       "      <td>C</td>\n",
       "      <td>1.083333</td>\n",
       "      <td>NaN</td>\n",
       "    </tr>\n",
       "    <tr>\n",
       "      <th>3</th>\n",
       "      <td>2016-04-06</td>\n",
       "      <td>A</td>\n",
       "      <td>10.000000</td>\n",
       "      <td>NaN</td>\n",
       "    </tr>\n",
       "    <tr>\n",
       "      <th>4</th>\n",
       "      <td>2016-04-13</td>\n",
       "      <td>A</td>\n",
       "      <td>5.333333</td>\n",
       "      <td>booyah</td>\n",
       "    </tr>\n",
       "    <tr>\n",
       "      <th>5</th>\n",
       "      <td>2016-04-14</td>\n",
       "      <td>D</td>\n",
       "      <td>12.233333</td>\n",
       "      <td>chur</td>\n",
       "    </tr>\n",
       "    <tr>\n",
       "      <th>6</th>\n",
       "      <td>2016-04-15</td>\n",
       "      <td>A</td>\n",
       "      <td>8.350000</td>\n",
       "      <td>NaN</td>\n",
       "    </tr>\n",
       "  </tbody>\n",
       "</table>\n",
       "</div>"
      ],
      "text/plain": [
       "        date project   duration   comment\n",
       "0 2016-04-01       A   4.000000  yeah nah\n",
       "1 2016-04-04       B   2.000000       NaN\n",
       "2 2016-04-04       C   1.083333       NaN\n",
       "3 2016-04-06       A  10.000000       NaN\n",
       "4 2016-04-13       A   5.333333    booyah\n",
       "5 2016-04-14       D  12.233333      chur\n",
       "6 2016-04-15       A   8.350000       NaN"
      ]
     },
     "execution_count": 5,
     "metadata": {},
     "output_type": "execute_result"
    }
   ],
   "source": [
    "# Read a timesheet\n",
    "\n",
    "path = 'timesheet.csv'\n",
    "timesheet = read_timesheet(path, input_time_units='min')\n",
    "timesheet"
   ]
  },
  {
   "cell_type": "code",
   "execution_count": 6,
   "metadata": {
    "collapsed": false
   },
   "outputs": [
    {
     "data": {
      "text/html": [
       "<div>\n",
       "<table border=\"1\" class=\"dataframe\">\n",
       "  <thead>\n",
       "    <tr style=\"text-align: right;\">\n",
       "      <th></th>\n",
       "      <th>start_date</th>\n",
       "      <th>end_date</th>\n",
       "      <th>project</th>\n",
       "      <th>duration</th>\n",
       "    </tr>\n",
       "  </thead>\n",
       "  <tbody>\n",
       "    <tr>\n",
       "      <th>0</th>\n",
       "      <td>2016-03-28</td>\n",
       "      <td>2016-04-03</td>\n",
       "      <td>A</td>\n",
       "      <td>4.000000</td>\n",
       "    </tr>\n",
       "    <tr>\n",
       "      <th>1</th>\n",
       "      <td>2016-04-04</td>\n",
       "      <td>2016-04-10</td>\n",
       "      <td>A</td>\n",
       "      <td>10.000000</td>\n",
       "    </tr>\n",
       "    <tr>\n",
       "      <th>3</th>\n",
       "      <td>2016-04-04</td>\n",
       "      <td>2016-04-10</td>\n",
       "      <td>B</td>\n",
       "      <td>2.000000</td>\n",
       "    </tr>\n",
       "    <tr>\n",
       "      <th>4</th>\n",
       "      <td>2016-04-04</td>\n",
       "      <td>2016-04-10</td>\n",
       "      <td>C</td>\n",
       "      <td>1.083333</td>\n",
       "    </tr>\n",
       "    <tr>\n",
       "      <th>2</th>\n",
       "      <td>2016-04-11</td>\n",
       "      <td>2016-04-17</td>\n",
       "      <td>A</td>\n",
       "      <td>13.683333</td>\n",
       "    </tr>\n",
       "    <tr>\n",
       "      <th>5</th>\n",
       "      <td>2016-04-11</td>\n",
       "      <td>2016-04-17</td>\n",
       "      <td>D</td>\n",
       "      <td>12.233333</td>\n",
       "    </tr>\n",
       "  </tbody>\n",
       "</table>\n",
       "</div>"
      ],
      "text/plain": [
       "  start_date   end_date project   duration\n",
       "0 2016-03-28 2016-04-03       A   4.000000\n",
       "1 2016-04-04 2016-04-10       A  10.000000\n",
       "3 2016-04-04 2016-04-10       B   2.000000\n",
       "4 2016-04-04 2016-04-10       C   1.083333\n",
       "2 2016-04-11 2016-04-17       A  13.683333\n",
       "5 2016-04-11 2016-04-17       D  12.233333"
      ]
     },
     "execution_count": 6,
     "metadata": {},
     "output_type": "execute_result"
    }
   ],
   "source": [
    "# Summarize project durations\n",
    "\n",
    "agg_by_project(timesheet, freq='W')\n"
   ]
  },
  {
   "cell_type": "code",
   "execution_count": 7,
   "metadata": {
    "collapsed": false
   },
   "outputs": [
    {
     "name": "stdout",
     "output_type": "stream",
     "text": [
      "{'bins': [inf], 'freq': 'M', 'rates': [30], 'kind': 'linear', 'name': None, 'base_fee': 3}\n"
     ]
    },
    {
     "data": {
      "text/html": [
       "<div>\n",
       "<table border=\"1\" class=\"dataframe\">\n",
       "  <thead>\n",
       "    <tr style=\"text-align: right;\">\n",
       "      <th></th>\n",
       "      <th>start_date</th>\n",
       "      <th>end_date</th>\n",
       "      <th>duration</th>\n",
       "      <th>rate</th>\n",
       "      <th>cost</th>\n",
       "    </tr>\n",
       "  </thead>\n",
       "  <tbody>\n",
       "    <tr>\n",
       "      <th>0</th>\n",
       "      <td>2016-04-01</td>\n",
       "      <td>2016-04-30</td>\n",
       "      <td>0.0</td>\n",
       "      <td>inf</td>\n",
       "      <td>3.0</td>\n",
       "    </tr>\n",
       "    <tr>\n",
       "      <th>1</th>\n",
       "      <td>2016-04-01</td>\n",
       "      <td>2016-04-30</td>\n",
       "      <td>43.0</td>\n",
       "      <td>30.000000</td>\n",
       "      <td>1290.0</td>\n",
       "    </tr>\n",
       "  </tbody>\n",
       "</table>\n",
       "</div>"
      ],
      "text/plain": [
       "  start_date   end_date  duration       rate    cost\n",
       "0 2016-04-01 2016-04-30       0.0        inf     3.0\n",
       "1 2016-04-01 2016-04-30      43.0  30.000000  1290.0"
      ]
     },
     "execution_count": 7,
     "metadata": {},
     "output_type": "execute_result"
    }
   ],
   "source": [
    "# Create a linear biller\n",
    "\n",
    "base_fee = 3\n",
    "biller1 = build_linear_biller(rate=30, base_fee=base_fee, freq='M')\n",
    "print(biller1.__dict__)\n",
    "\n",
    "costs = compute_costs(timesheet, biller1)\n",
    "costs\n",
    "\n"
   ]
  },
  {
   "cell_type": "code",
   "execution_count": 8,
   "metadata": {
    "collapsed": false
   },
   "outputs": [
    {
     "name": "stdout",
     "output_type": "stream",
     "text": [
      "[10, 5, 2, 0]\n",
      "{'bins': [10, 5, 7, inf], 'freq': 'W', 'rates': [30, 60, 90, 180], 'kind': 'piecewise_linear', 'name': None, 'base_fee': 3}\n"
     ]
    },
    {
     "data": {
      "text/html": [
       "<div>\n",
       "<table border=\"1\" class=\"dataframe\">\n",
       "  <thead>\n",
       "    <tr style=\"text-align: right;\">\n",
       "      <th></th>\n",
       "      <th>start_date</th>\n",
       "      <th>end_date</th>\n",
       "      <th>duration</th>\n",
       "      <th>rate</th>\n",
       "      <th>cost</th>\n",
       "    </tr>\n",
       "  </thead>\n",
       "  <tbody>\n",
       "    <tr>\n",
       "      <th>0</th>\n",
       "      <td>2016-03-28</td>\n",
       "      <td>2016-04-03</td>\n",
       "      <td>0.000000</td>\n",
       "      <td>inf</td>\n",
       "      <td>3.0</td>\n",
       "    </tr>\n",
       "    <tr>\n",
       "      <th>1</th>\n",
       "      <td>2016-03-28</td>\n",
       "      <td>2016-04-03</td>\n",
       "      <td>4.000000</td>\n",
       "      <td>30.000000</td>\n",
       "      <td>120.0</td>\n",
       "    </tr>\n",
       "    <tr>\n",
       "      <th>5</th>\n",
       "      <td>2016-04-04</td>\n",
       "      <td>2016-04-10</td>\n",
       "      <td>0.000000</td>\n",
       "      <td>inf</td>\n",
       "      <td>3.0</td>\n",
       "    </tr>\n",
       "    <tr>\n",
       "      <th>6</th>\n",
       "      <td>2016-04-04</td>\n",
       "      <td>2016-04-10</td>\n",
       "      <td>10.000000</td>\n",
       "      <td>30.000000</td>\n",
       "      <td>300.0</td>\n",
       "    </tr>\n",
       "    <tr>\n",
       "      <th>7</th>\n",
       "      <td>2016-04-04</td>\n",
       "      <td>2016-04-10</td>\n",
       "      <td>3.083333</td>\n",
       "      <td>60.000000</td>\n",
       "      <td>185.0</td>\n",
       "    </tr>\n",
       "    <tr>\n",
       "      <th>10</th>\n",
       "      <td>2016-04-11</td>\n",
       "      <td>2016-04-17</td>\n",
       "      <td>0.000000</td>\n",
       "      <td>inf</td>\n",
       "      <td>3.0</td>\n",
       "    </tr>\n",
       "    <tr>\n",
       "      <th>11</th>\n",
       "      <td>2016-04-11</td>\n",
       "      <td>2016-04-17</td>\n",
       "      <td>10.000000</td>\n",
       "      <td>30.000000</td>\n",
       "      <td>300.0</td>\n",
       "    </tr>\n",
       "    <tr>\n",
       "      <th>12</th>\n",
       "      <td>2016-04-11</td>\n",
       "      <td>2016-04-17</td>\n",
       "      <td>5.000000</td>\n",
       "      <td>60.000000</td>\n",
       "      <td>300.0</td>\n",
       "    </tr>\n",
       "    <tr>\n",
       "      <th>13</th>\n",
       "      <td>2016-04-11</td>\n",
       "      <td>2016-04-17</td>\n",
       "      <td>7.000000</td>\n",
       "      <td>90.000000</td>\n",
       "      <td>630.0</td>\n",
       "    </tr>\n",
       "    <tr>\n",
       "      <th>14</th>\n",
       "      <td>2016-04-11</td>\n",
       "      <td>2016-04-17</td>\n",
       "      <td>3.916667</td>\n",
       "      <td>180.000000</td>\n",
       "      <td>705.0</td>\n",
       "    </tr>\n",
       "  </tbody>\n",
       "</table>\n",
       "</div>"
      ],
      "text/plain": [
       "   start_date   end_date   duration        rate   cost\n",
       "0  2016-03-28 2016-04-03   0.000000         inf    3.0\n",
       "1  2016-03-28 2016-04-03   4.000000   30.000000  120.0\n",
       "5  2016-04-04 2016-04-10   0.000000         inf    3.0\n",
       "6  2016-04-04 2016-04-10  10.000000   30.000000  300.0\n",
       "7  2016-04-04 2016-04-10   3.083333   60.000000  185.0\n",
       "10 2016-04-11 2016-04-17   0.000000         inf    3.0\n",
       "11 2016-04-11 2016-04-17  10.000000   30.000000  300.0\n",
       "12 2016-04-11 2016-04-17   5.000000   60.000000  300.0\n",
       "13 2016-04-11 2016-04-17   7.000000   90.000000  630.0\n",
       "14 2016-04-11 2016-04-17   3.916667  180.000000  705.0"
      ]
     },
     "execution_count": 8,
     "metadata": {},
     "output_type": "execute_result"
    }
   ],
   "source": [
    "# Create a piecewise linear biller (tiered rates)\n",
    "\n",
    "bins = [10, 5, 7, np.inf]\n",
    "print(decompose(17, bins))\n",
    "\n",
    "rates = [30, 60, 90, 180]\n",
    "biller2 = build_piecewise_linear_biller(bins, rates, base_fee, freq='W')\n",
    "print(biller2.__dict__)\n",
    "\n",
    "costs = compute_costs(timesheet, biller2)\n",
    "costs"
   ]
  },
  {
   "cell_type": "code",
   "execution_count": 9,
   "metadata": {
    "collapsed": false
   },
   "outputs": [
    {
     "name": "stdout",
     "output_type": "stream",
     "text": [
      "   start_date   end_date   duration        rate   cost\n",
      "0  2016-03-28 2016-04-03   0.000000         inf    3.0\n",
      "1  2016-03-28 2016-04-03   4.000000   30.000000  120.0\n",
      "5  2016-04-04 2016-04-10   0.000000         inf    3.0\n",
      "6  2016-04-04 2016-04-10  10.000000   30.000000  300.0\n",
      "7  2016-04-04 2016-04-10   3.083333   60.000000  185.0\n",
      "10 2016-04-11 2016-04-17   0.000000         inf    3.0\n",
      "11 2016-04-11 2016-04-17  10.000000   30.000000  300.0\n",
      "12 2016-04-11 2016-04-17   5.000000   60.000000  300.0\n",
      "13 2016-04-11 2016-04-17   7.000000   90.000000  630.0\n",
      "14 2016-04-11 2016-04-17   3.916667  180.000000  705.0\n"
     ]
    }
   ],
   "source": [
    "# Make an HTML invoice\n",
    "\n",
    "# 1. Create a costs data frame from the template. \n",
    "# Done above.\n",
    "print(costs)\n",
    "\n",
    "# 2. Choose an HTML invoice template. \n",
    "# I'll use the example one, but you should make one suited to your needs.\n",
    "template_path = Path('../examples/template/invoice.html')\n",
    "\n",
    "# 3. Create the context for the template\n",
    "context = {\n",
    "  'invoice_code': '#my-first-invoice',\n",
    "  'issue_date': '2016-04-30',\n",
    "  'due_date': '2016-05-01',\n",
    "  'currency': 'NZD',\n",
    "  'sender': 'Bumptious Q. Bangwhistle',\n",
    "  'sender_address': '1 Queen St, Auckland 1001',\n",
    "  'sender_email': 'hello@bangwhistle.net',\n",
    "  'sender_bank_name': 'Bingo Bank',\n",
    "  'sender_bank_account': '1234-56-789',\n",
    "  'receiver': 'Wingnut',\n",
    "  'receiver_address': '2 Victoria St, Auckland 1001',\n",
    "  }\n",
    "\n",
    "# 4. Render the HTML\n",
    "html = make_invoice(costs, template_path, context)\n",
    "\n",
    "# 5. Write to file\n",
    "output_path = template_path.parent / 'output.html'\n",
    "with output_path.open( 'w') as tgt:\n",
    "    tgt.write(html)\n",
    "    "
   ]
  },
  {
   "cell_type": "code",
   "execution_count": null,
   "metadata": {
    "collapsed": true
   },
   "outputs": [],
   "source": []
  }
 ],
 "metadata": {
  "kernelspec": {
   "display_name": "Python 3",
   "language": "python",
   "name": "python3"
  },
  "language_info": {
   "codemirror_mode": {
    "name": "ipython",
    "version": 3
   },
   "file_extension": ".py",
   "mimetype": "text/x-python",
   "name": "python",
   "nbconvert_exporter": "python",
   "pygments_lexer": "ipython3",
   "version": "3.5.1"
  }
 },
 "nbformat": 4,
 "nbformat_minor": 0
}
